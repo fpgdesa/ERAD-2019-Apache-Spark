{
 "cells": [
  {
   "cell_type": "markdown",
   "metadata": {},
   "source": [
    "## ERAD RIO 2019 - Minicurso"
   ]
  },
  {
   "cell_type": "markdown",
   "metadata": {},
   "source": [
    "# Exemplos utilizando Scala"
   ]
  },
  {
   "cell_type": "code",
   "execution_count": 2,
   "metadata": {
    "scrolled": true
   },
   "outputs": [
    {
     "name": "stdout",
     "output_type": "stream",
     "text": [
      "Comentários"
     ]
    }
   ],
   "source": [
    "// Este é um comentário de uma linha\n",
    "\n",
    "/* Este é um comentário\n",
    "   de mais de uma linha */\n",
    "\n",
    "print(\"Comentários\")"
   ]
  },
  {
   "cell_type": "markdown",
   "metadata": {},
   "source": [
    "## Operações algébricas"
   ]
  },
  {
   "cell_type": "code",
   "execution_count": 3,
   "metadata": {},
   "outputs": [
    {
     "data": {
      "text/plain": [
       "11"
      ]
     },
     "execution_count": 3,
     "metadata": {},
     "output_type": "execute_result"
    }
   ],
   "source": [
    "// Operações algébricas\n",
    "5 + 6"
   ]
  },
  {
   "cell_type": "code",
   "execution_count": 4,
   "metadata": {},
   "outputs": [
    {
     "data": {
      "text/plain": [
       "8"
      ]
     },
     "execution_count": 4,
     "metadata": {},
     "output_type": "execute_result"
    }
   ],
   "source": [
    "10 - 2 "
   ]
  },
  {
   "cell_type": "code",
   "execution_count": 5,
   "metadata": {},
   "outputs": [
    {
     "data": {
      "text/plain": [
       "8.0"
      ]
     },
     "execution_count": 5,
     "metadata": {},
     "output_type": "execute_result"
    }
   ],
   "source": [
    "10.0 - 2"
   ]
  },
  {
   "cell_type": "code",
   "execution_count": 6,
   "metadata": {},
   "outputs": [
    {
     "data": {
      "text/plain": [
       "2"
      ]
     },
     "execution_count": 6,
     "metadata": {},
     "output_type": "execute_result"
    }
   ],
   "source": [
    "5/2"
   ]
  },
  {
   "cell_type": "code",
   "execution_count": 7,
   "metadata": {},
   "outputs": [
    {
     "data": {
      "text/plain": [
       "2.5"
      ]
     },
     "execution_count": 7,
     "metadata": {},
     "output_type": "execute_result"
    }
   ],
   "source": [
    "5.0/2"
   ]
  },
  {
   "cell_type": "code",
   "execution_count": 8,
   "metadata": {},
   "outputs": [
    {
     "data": {
      "text/plain": [
       "2.5"
      ]
     },
     "execution_count": 8,
     "metadata": {},
     "output_type": "execute_result"
    }
   ],
   "source": [
    "5/2.0"
   ]
  },
  {
   "cell_type": "code",
   "execution_count": 9,
   "metadata": {},
   "outputs": [
    {
     "data": {
      "text/plain": [
       "200"
      ]
     },
     "execution_count": 9,
     "metadata": {},
     "output_type": "execute_result"
    }
   ],
   "source": [
    "10 * 20"
   ]
  },
  {
   "cell_type": "code",
   "execution_count": 10,
   "metadata": {
    "scrolled": true
   },
   "outputs": [
    {
     "data": {
      "text/plain": [
       "200.0"
      ]
     },
     "execution_count": 10,
     "metadata": {},
     "output_type": "execute_result"
    }
   ],
   "source": [
    "10.0 * 20"
   ]
  },
  {
   "cell_type": "markdown",
   "metadata": {},
   "source": [
    "## Declaração de Variáveis"
   ]
  },
  {
   "cell_type": "code",
   "execution_count": 11,
   "metadata": {},
   "outputs": [
    {
     "data": {
      "text/plain": [
       "a = 2\n",
       "b = 3\n"
      ]
     },
     "metadata": {},
     "output_type": "display_data"
    },
    {
     "data": {
      "text/plain": [
       "3"
      ]
     },
     "execution_count": 11,
     "metadata": {},
     "output_type": "execute_result"
    }
   ],
   "source": [
    "/* Scala tem dois tipos de variáveis> val e var\n",
    "   val: similar ao tipo final em Java (constante)\n",
    "   var: similar ao tipo não-final em Java, pode ser reatribuída\n",
    "*/\n",
    "\n",
    "val a = 2\n",
    "var b = 3\n"
   ]
  },
  {
   "cell_type": "code",
   "execution_count": 12,
   "metadata": {},
   "outputs": [
    {
     "data": {
      "text/plain": [
       "Name: Compile Error\n",
       "Message: <console>:29: error: reassignment to val\n",
       "       a = 10\n",
       "         ^\n",
       "\n",
       "StackTrace: "
      ]
     },
     "execution_count": 12,
     "metadata": {},
     "output_type": "execute_result"
    }
   ],
   "source": [
    "// Vamos tentar reatribuir o valor de a\n",
    "\n",
    "a = 10"
   ]
  },
  {
   "cell_type": "code",
   "execution_count": 13,
   "metadata": {},
   "outputs": [
    {
     "data": {
      "text/plain": [
       "b = 10\n"
      ]
     },
     "metadata": {},
     "output_type": "display_data"
    },
    {
     "data": {
      "text/plain": [
       "10"
      ]
     },
     "execution_count": 13,
     "metadata": {},
     "output_type": "execute_result"
    }
   ],
   "source": [
    "// Vamos tentar reatribuir o valor de b\n",
    "\n",
    "b = 10"
   ]
  },
  {
   "cell_type": "code",
   "execution_count": 14,
   "metadata": {
    "scrolled": true
   },
   "outputs": [
    {
     "data": {
      "text/plain": [
       "raio = 3.0\n",
       "comprimento = 18.84955592153876\n"
      ]
     },
     "metadata": {},
     "output_type": "display_data"
    },
    {
     "data": {
      "text/plain": [
       "18.84955592153876"
      ]
     },
     "execution_count": 14,
     "metadata": {},
     "output_type": "execute_result"
    }
   ],
   "source": [
    "val raio = 3.0\n",
    "val comprimento = 2 * java.lang.Math.PI * raio"
   ]
  },
  {
   "cell_type": "code",
   "execution_count": 15,
   "metadata": {},
   "outputs": [
    {
     "data": {
      "text/plain": [
       "c = 11\n",
       "d = 15.0\n",
       "s = Hello,World!\n"
      ]
     },
     "metadata": {},
     "output_type": "display_data"
    },
    {
     "data": {
      "text/plain": [
       "Hello,World!"
      ]
     },
     "execution_count": 15,
     "metadata": {},
     "output_type": "execute_result"
    }
   ],
   "source": [
    "// Na declaração da variável, podemos utilizar o tipo \n",
    "\n",
    "val c:Int = 11\n",
    "val d:Double = 15\n",
    "val s: String  = \"Hello,World!\""
   ]
  },
  {
   "cell_type": "code",
   "execution_count": 16,
   "metadata": {},
   "outputs": [
    {
     "name": "stdout",
     "output_type": "stream",
     "text": [
      "Assim imprimimos na tela \n",
      "saltando uma linha\n"
     ]
    }
   ],
   "source": [
    "print(\"Assim imprimimos na tela \\n\") \n",
    "println(\"saltando uma linha\")"
   ]
  },
  {
   "cell_type": "markdown",
   "metadata": {},
   "source": [
    "## Funções em Scala"
   ]
  },
  {
   "cell_type": "code",
   "execution_count": 17,
   "metadata": {},
   "outputs": [
    {
     "data": {
      "text/plain": [
       "resultadoSoma = 8\n"
      ]
     },
     "metadata": {},
     "output_type": "display_data"
    },
    {
     "data": {
      "text/plain": [
       "soma: (x: Int, y: Int)Int\n"
      ]
     },
     "metadata": {},
     "output_type": "display_data"
    },
    {
     "data": {
      "text/plain": [
       "8"
      ]
     },
     "execution_count": 17,
     "metadata": {},
     "output_type": "execute_result"
    }
   ],
   "source": [
    "// Em Scala a declaração de função recebe a palavra-chave def\n",
    "\n",
    "def soma(x:Int,y:Int):Int = {\n",
    "    x + y\n",
    "}\n",
    "\n",
    "/* Observe que declaramos o tipo de retorno em \":Int = \"\n",
    "   também não precisamos incluir o comando return \n",
    "   Vamos utilizar esta função:\n",
    "*/\n",
    "\n",
    "val resultadoSoma = soma(3,5)\n",
    "\n",
    "\n"
   ]
  },
  {
   "cell_type": "code",
   "execution_count": 18,
   "metadata": {},
   "outputs": [
    {
     "data": {
      "text/plain": [
       "soma: (x: Int, y: Int)Int\n"
      ]
     },
     "metadata": {},
     "output_type": "display_data"
    },
    {
     "data": {
      "text/plain": [
       "13"
      ]
     },
     "execution_count": 18,
     "metadata": {},
     "output_type": "execute_result"
    }
   ],
   "source": [
    "// Poderiamos ser econômicos, escrevendo a função em uma unica linha\n",
    "\n",
    "def soma(x:Int,y:Int):Int = x + y\n",
    "soma(5,8)"
   ]
  },
  {
   "cell_type": "code",
   "execution_count": 19,
   "metadata": {},
   "outputs": [
    {
     "data": {
      "text/plain": [
       "printMensagem: ()Unit\n"
      ]
     },
     "metadata": {},
     "output_type": "display_data"
    },
    {
     "name": "stdout",
     "output_type": "stream",
     "text": [
      "Bem-vindo ao Erad 2019!\n"
     ]
    }
   ],
   "source": [
    "// Se a função não possui retorno, utilizamos Unit\n",
    "\n",
    "def printMensagem():Unit = println(\"Bem-vindo ao Erad 2019!\")\n",
    "\n",
    "printMensagem()"
   ]
  },
  {
   "cell_type": "markdown",
   "metadata": {},
   "source": [
    "## Estruturas de Controle"
   ]
  },
  {
   "cell_type": "code",
   "execution_count": 20,
   "metadata": {},
   "outputs": [
    {
     "name": "stdout",
     "output_type": "stream",
     "text": [
      "Conceito A"
     ]
    },
    {
     "data": {
      "text/plain": [
       "nota = 100\n"
      ]
     },
     "metadata": {},
     "output_type": "display_data"
    },
    {
     "data": {
      "text/plain": [
       "100"
      ]
     },
     "execution_count": 20,
     "metadata": {},
     "output_type": "execute_result"
    }
   ],
   "source": [
    "var nota: Int = 100 // digite aqui a idade\n",
    "\n",
    "if(nota > 85 )\n",
    "    print(\"Conceito A\")\n",
    "else if(nota > 75 && nota <= 85)\n",
    "    print(\"Conceito B\")\n",
    "else if(nota >= 60 && nota <= 75)\n",
    "    print(\"Conceito C\")\n",
    "else if(nota < 60)\n",
    "    print(\"conceito D\")"
   ]
  },
  {
   "cell_type": "code",
   "execution_count": 21,
   "metadata": {},
   "outputs": [
    {
     "data": {
      "text/plain": [
       "nota = 100\n",
       "resultado = Conceito A\n"
      ]
     },
     "metadata": {},
     "output_type": "display_data"
    },
    {
     "data": {
      "text/plain": [
       "Conceito A"
      ]
     },
     "execution_count": 21,
     "metadata": {},
     "output_type": "execute_result"
    }
   ],
   "source": [
    "// Vamos fazer Melhor?\n",
    "\n",
    "var nota = 100\n",
    "\n",
    "val resultado = nota match{\n",
    "    case valor if 86 until 101 contains valor => \"Conceito A\"\n",
    "    case valor if 76 until 86  contains valor => \"Conceito B\"\n",
    "    case valor if 60 until 76 contains valor => \"Conceito C\"    \n",
    "    case _ => \"Conceito D\"\n",
    "}"
   ]
  },
  {
   "cell_type": "code",
   "execution_count": 22,
   "metadata": {
    "scrolled": true
   },
   "outputs": [
    {
     "name": "stdout",
     "output_type": "stream",
     "text": [
      "Erad 2019\n",
      "Erad 2019\n",
      "Erad 2019\n",
      "Erad 2019\n",
      "Erad 2019\n",
      "Erad 2019\n",
      "Erad 2019\n",
      "Erad 2019\n",
      "Erad 2019\n",
      "Erad 2019\n",
      "Erad 2019\n",
      "Erad 2019\n",
      "Erad 2019\n",
      "Erad 2019\n",
      "Erad 2019\n",
      "Erad 2019\n",
      "Erad 2019\n",
      "Erad 2019\n",
      "Erad 2019\n",
      "Erad 2019\n",
      "Erad 2019\n",
      "Erad 2019\n",
      "Erad 2019\n",
      "Erad 2019\n",
      "Erad 2019\n"
     ]
    },
    {
     "data": {
      "text/plain": [
       "contador = 25\n"
      ]
     },
     "metadata": {},
     "output_type": "display_data"
    },
    {
     "data": {
      "text/plain": [
       "25"
      ]
     },
     "execution_count": 22,
     "metadata": {},
     "output_type": "execute_result"
    }
   ],
   "source": [
    "var contador = 0\n",
    "\n",
    "while (contador < 25){\n",
    "    println(\"Erad 2019\")\n",
    "    contador += 1\n",
    "}"
   ]
  },
  {
   "cell_type": "code",
   "execution_count": 41,
   "metadata": {},
   "outputs": [
    {
     "name": "stdout",
     "output_type": "stream",
     "text": [
      "Erad 2019\n",
      "Erad 2019\n"
     ]
    },
    {
     "data": {
      "text/plain": [
       "contador = 2\n"
      ]
     },
     "metadata": {},
     "output_type": "display_data"
    },
    {
     "data": {
      "text/plain": [
       "2"
      ]
     },
     "execution_count": 41,
     "metadata": {},
     "output_type": "execute_result"
    }
   ],
   "source": [
    "import util.control.Breaks._\n",
    "\n",
    "var contador = 0\n",
    "\n",
    "breakable{\n",
    "while (contador < 25){    \n",
    "    if(contador%3 > 1){\n",
    "        break\n",
    "    }\n",
    "    println(\"Erad 2019\")\n",
    "    contador += 1\n",
    "    }\n",
    "}"
   ]
  },
  {
   "cell_type": "code",
   "execution_count": 48,
   "metadata": {},
   "outputs": [
    {
     "name": "stdout",
     "output_type": "stream",
     "text": [
      "O valor é 1 \n",
      "O valor é 2 \n",
      "O valor é 3 \n",
      "O valor é 4 \n",
      "O valor é 5 \n",
      "O valor é 6 \n"
     ]
    },
    {
     "data": {
      "text/plain": [
       "a = Array(1, 2, 3, 4, 5, 6)\n"
      ]
     },
     "metadata": {},
     "output_type": "display_data"
    },
    {
     "data": {
      "text/plain": [
       "Array(1, 2, 3, 4, 5, 6)"
      ]
     },
     "execution_count": 48,
     "metadata": {},
     "output_type": "execute_result"
    }
   ],
   "source": [
    "// O iterador foreach é bastante utilizado na perspectiva de uma linguagem funcional\n",
    "\n",
    "val arrayA: Array[Int] = Array(1,2,3,4,5,6)\n",
    "a.foreach(a => printf(\"O valor é %d \\n\",a))"
   ]
  },
  {
   "cell_type": "code",
   "execution_count": 49,
   "metadata": {},
   "outputs": [
    {
     "name": "stdout",
     "output_type": "stream",
     "text": [
      "O valor é 1 \n",
      "O valor é 2 \n",
      "O valor é 3 \n",
      "O valor é 4 \n",
      "O valor é 5 \n",
      "O valor é 6 \n"
     ]
    },
    {
     "data": {
      "text/plain": [
       "arrayB = Array(1, 2, 3, 4, 5, 6)\n"
      ]
     },
     "metadata": {},
     "output_type": "display_data"
    },
    {
     "data": {
      "text/plain": [
       "Array(1, 2, 3, 4, 5, 6)"
      ]
     },
     "execution_count": 49,
     "metadata": {},
     "output_type": "execute_result"
    }
   ],
   "source": [
    "val arrayB: Array[Int] = Array(1,2,3,4,5,6)\n",
    "\n",
    "for(i <- arrayB)\n",
    "    printf(\"O valor é %d \\n\",i)\n"
   ]
  },
  {
   "cell_type": "code",
   "execution_count": 51,
   "metadata": {
    "scrolled": false
   },
   "outputs": [
    {
     "name": "stdout",
     "output_type": "stream",
     "text": [
      "1\n",
      "2\n",
      "3\n",
      "4\n",
      "5\n",
      "6\n",
      "7\n",
      "8\n",
      "9\n"
     ]
    }
   ],
   "source": [
    "for(i <- 1 until 10)\n",
    "    println(i)\n",
    "    "
   ]
  },
  {
   "cell_type": "markdown",
   "metadata": {},
   "source": [
    "## Estruturas de Dados (alguns exemplos) "
   ]
  },
  {
   "cell_type": "markdown",
   "metadata": {},
   "source": [
    "* Você notou que utilizamos no exemplo anterior uma estrutura Array\n",
    "\n",
    "* Também veremos as listas\n",
    "\n",
    "* Arrays são mutáveis; as listas são imutáveis (ambos não são redimensionáveis)"
   ]
  },
  {
   "cell_type": "code",
   "execution_count": 52,
   "metadata": {},
   "outputs": [
    {
     "data": {
      "text/plain": [
       "valoresArray = Array(erad, erad)\n"
      ]
     },
     "metadata": {},
     "output_type": "display_data"
    },
    {
     "data": {
      "text/plain": [
       "Array(erad, erad)"
      ]
     },
     "execution_count": 52,
     "metadata": {},
     "output_type": "execute_result"
    }
   ],
   "source": [
    "val valoresArray = Array(\"erad\",\"erad\") // note que não declaramos aqui o tipo"
   ]
  },
  {
   "cell_type": "code",
   "execution_count": 54,
   "metadata": {
    "scrolled": true
   },
   "outputs": [
    {
     "data": {
      "text/plain": [
       "valoresArray = Array(1, erad)\n"
      ]
     },
     "metadata": {},
     "output_type": "display_data"
    },
    {
     "data": {
      "text/plain": [
       "Array(1, erad)"
      ]
     },
     "execution_count": 54,
     "metadata": {},
     "output_type": "execute_result"
    }
   ],
   "source": [
    "val valoresArray = Array(1,\"erad\") // vamos ver o que acontece"
   ]
  },
  {
   "cell_type": "markdown",
   "metadata": {},
   "source": [
    "* Na hierarquia de tipos, acima de String e Integer, por exemplo, está o tipo Any"
   ]
  },
  {
   "cell_type": "code",
   "execution_count": 58,
   "metadata": {},
   "outputs": [
    {
     "data": {
      "text/plain": [
       "valoresList = List(1, 2, 3)\n"
      ]
     },
     "metadata": {},
     "output_type": "display_data"
    },
    {
     "data": {
      "text/plain": [
       "List(1, 2, 3)"
      ]
     },
     "execution_count": 58,
     "metadata": {},
     "output_type": "execute_result"
    }
   ],
   "source": [
    "val valoresList  = List(1,2,3) // aqui a declaração de uma lista"
   ]
  },
  {
   "cell_type": "markdown",
   "metadata": {},
   "source": [
    "* Arrays são mutáveis, embora não possamos alterar o seu tamanho após a sua criação\n",
    "* Entretanto podemos concatenar Arrays, criando um novo"
   ]
  },
  {
   "cell_type": "code",
   "execution_count": 88,
   "metadata": {},
   "outputs": [
    {
     "data": {
      "text/plain": [
       "notasAlunosA = Array(86, 87, 90, 98)\n",
       "notasAlunosB = Array(77, 79, 81)\n",
       "notasConcat = Array(86, 87, 90, 98, 77, 79, 81)\n"
      ]
     },
     "metadata": {},
     "output_type": "display_data"
    },
    {
     "data": {
      "text/plain": [
       "Array(86, 87, 90, 98, 77, 79, 81)"
      ]
     },
     "execution_count": 88,
     "metadata": {},
     "output_type": "execute_result"
    }
   ],
   "source": [
    "val notasAlunosA = Array(86,87,90,98)\n",
    "val notasAlunosB = Array(77,79,81)\n",
    "\n",
    "val notasConcat = notasAlunosA ++ notasAlunosB"
   ]
  },
  {
   "cell_type": "markdown",
   "metadata": {},
   "source": [
    "* Temos a opção de utilizar o ArrayBuffer, cuja dimensão é mutável"
   ]
  },
  {
   "cell_type": "code",
   "execution_count": 61,
   "metadata": {},
   "outputs": [
    {
     "data": {
      "text/plain": [
       "notasAlunosC = ArrayBuffer(67, 68, 71)\n"
      ]
     },
     "metadata": {},
     "output_type": "display_data"
    },
    {
     "data": {
      "text/plain": [
       "ArrayBuffer(67, 68, 71)"
      ]
     },
     "execution_count": 61,
     "metadata": {},
     "output_type": "execute_result"
    }
   ],
   "source": [
    "import scala.collection.mutable.ArrayBuffer\n",
    "\n",
    "val notasAlunosC = ArrayBuffer(67,68,71)"
   ]
  },
  {
   "cell_type": "code",
   "execution_count": 62,
   "metadata": {},
   "outputs": [
    {
     "data": {
      "text/plain": [
       "ArrayBuffer(67, 68, 71, 73)"
      ]
     },
     "execution_count": 62,
     "metadata": {},
     "output_type": "execute_result"
    }
   ],
   "source": [
    "notasAlunosC += 73"
   ]
  },
  {
   "cell_type": "code",
   "execution_count": 64,
   "metadata": {},
   "outputs": [
    {
     "data": {
      "text/plain": [
       "ArrayBuffer(67, 68, 71, 73, 74, 75)"
      ]
     },
     "execution_count": 64,
     "metadata": {},
     "output_type": "execute_result"
    }
   ],
   "source": [
    "notasAlunosC ++= ArrayBuffer(74,75)"
   ]
  },
  {
   "cell_type": "code",
   "execution_count": 65,
   "metadata": {},
   "outputs": [
    {
     "data": {
      "text/plain": [
       "ArrayBuffer(67, 68, 71, 73, 74, 75, 86, 87, 90, 98)"
      ]
     },
     "execution_count": 65,
     "metadata": {},
     "output_type": "execute_result"
    }
   ],
   "source": [
    "notasAlunosC ++= notasAlunosA"
   ]
  },
  {
   "cell_type": "code",
   "execution_count": 66,
   "metadata": {},
   "outputs": [
    {
     "data": {
      "text/plain": [
       "ArrayBuffer(67, 68, 71, 73, 74, 75, 86, 87, 90, 98, 86, 87, 90, 98)"
      ]
     },
     "execution_count": 66,
     "metadata": {},
     "output_type": "execute_result"
    }
   ],
   "source": [
    "notasAlunosC ++= notasAlunosA // há elementos duplicados"
   ]
  },
  {
   "cell_type": "markdown",
   "metadata": {},
   "source": [
    "* Vamos concatenar listas\n"
   ]
  },
  {
   "cell_type": "code",
   "execution_count": 67,
   "metadata": {},
   "outputs": [
    {
     "data": {
      "text/plain": [
       "listaNotaA = List(86, 87, 90, 98)\n",
       "listaNotaB = List(77, 79, 81)\n",
       "listaNotaALL = List(86, 87, 90, 98, 77, 79, 81)\n"
      ]
     },
     "metadata": {},
     "output_type": "display_data"
    },
    {
     "data": {
      "text/plain": [
       "List(86, 87, 90, 98, 77, 79, 81)"
      ]
     },
     "execution_count": 67,
     "metadata": {},
     "output_type": "execute_result"
    }
   ],
   "source": [
    "val listaNotaA  = List(86,87,90,98)\n",
    "val listaNotaB  = List(77,79,81)\n",
    "\n",
    "val listaNotaALL = listaNotaA ::: listaNotaB"
   ]
  },
  {
   "cell_type": "markdown",
   "metadata": {},
   "source": [
    "* Diferente do Array, a lista permte a inclusão ou remoção de elementos"
   ]
  },
  {
   "cell_type": "code",
   "execution_count": 71,
   "metadata": {},
   "outputs": [
    {
     "data": {
      "text/plain": [
       "listaNotaConcat = List(86, 87, 90, 98, 77, 79, 81)\n"
      ]
     },
     "metadata": {},
     "output_type": "display_data"
    },
    {
     "data": {
      "text/plain": [
       "List(86, 87, 90, 98, 77, 79, 81)"
      ]
     },
     "execution_count": 71,
     "metadata": {},
     "output_type": "execute_result"
    }
   ],
   "source": [
    "val listaNotaConcat = listaNotaA ::: listaNotaB // estamos concatenando 2 listas, em uma nova"
   ]
  },
  {
   "cell_type": "code",
   "execution_count": 73,
   "metadata": {},
   "outputs": [
    {
     "data": {
      "text/plain": [
       "listaNotaExemplo2 = List(100, 86, 87, 90, 98)\n"
      ]
     },
     "metadata": {},
     "output_type": "display_data"
    },
    {
     "data": {
      "text/plain": [
       "List(100, 86, 87, 90, 98)"
      ]
     },
     "execution_count": 73,
     "metadata": {},
     "output_type": "execute_result"
    }
   ],
   "source": [
    "val listaNotaExemplo2 = 100 :: listaNotaA  // estamos inserindo um elemento, observe a ordem"
   ]
  },
  {
   "cell_type": "code",
   "execution_count": 74,
   "metadata": {},
   "outputs": [
    {
     "data": {
      "text/plain": [
       "geraLista = List(1, 2, 3)\n"
      ]
     },
     "metadata": {},
     "output_type": "display_data"
    },
    {
     "data": {
      "text/plain": [
       "List(1, 2, 3)"
      ]
     },
     "execution_count": 74,
     "metadata": {},
     "output_type": "execute_result"
    }
   ],
   "source": [
    "val geraLista  = 1 :: 2 :: 3 :: Nil // uma forma interessante de criar uma lista"
   ]
  },
  {
   "cell_type": "markdown",
   "metadata": {},
   "source": [
    "* vamos olhar agora pares"
   ]
  },
  {
   "cell_type": "code",
   "execution_count": 76,
   "metadata": {},
   "outputs": [
    {
     "name": "stdout",
     "output_type": "stream",
     "text": [
      "erad\n",
      "2019\n"
     ]
    },
    {
     "data": {
      "text/plain": [
       "pair = (erad,2019)\n"
      ]
     },
     "metadata": {},
     "output_type": "display_data"
    },
    {
     "data": {
      "text/plain": [
       "(erad,2019)"
      ]
     },
     "execution_count": 76,
     "metadata": {},
     "output_type": "execute_result"
    }
   ],
   "source": [
    "val pair = (\"erad\",2019) // declaramos um par (uma tupla)\n",
    "println(pair._1) // acessando cada elemento do par\n",
    "println(pair._2)"
   ]
  },
  {
   "cell_type": "markdown",
   "metadata": {},
   "source": [
    "* Vamos conhecer as estruturas Set e Map"
   ]
  },
  {
   "cell_type": "markdown",
   "metadata": {},
   "source": [
    "* Sets são coleções imutáveis, que podemos redimensionar"
   ]
  },
  {
   "cell_type": "code",
   "execution_count": 77,
   "metadata": {},
   "outputs": [
    {
     "data": {
      "text/plain": [
       "jetSet = Set(Boeing, Airbus, Lear)\n"
      ]
     },
     "metadata": {},
     "output_type": "display_data"
    },
    {
     "data": {
      "text/plain": [
       "Set(Boeing, Airbus, Lear)"
      ]
     },
     "execution_count": 77,
     "metadata": {},
     "output_type": "execute_result"
    }
   ],
   "source": [
    "var jetSet = Set(\"Boeing\",\"Airbus\")\n",
    "jetSet += \"Lear\"\n"
   ]
  },
  {
   "cell_type": "markdown",
   "metadata": {},
   "source": [
    "* Encontramos outras implementações do Set, como o HashSet, que pode ser mutável ou imutável\n",
    "* Agora vamos tratar da estrutura Map, bastante útil\n",
    "* Assim como o Set, há implementações mutáveis e imutáveis"
   ]
  },
  {
   "cell_type": "code",
   "execution_count": 90,
   "metadata": {},
   "outputs": [
    {
     "data": {
      "text/plain": [
       "mapValues = Map(2 -> erad, 1 -> erad, 3 -> erad)\n"
      ]
     },
     "metadata": {},
     "output_type": "display_data"
    },
    {
     "data": {
      "text/plain": [
       "Map(2 -> erad, 1 -> erad, 3 -> erad)"
      ]
     },
     "execution_count": 90,
     "metadata": {},
     "output_type": "execute_result"
    }
   ],
   "source": [
    "import scala.collection.mutable.Map // importamos uma versão mutável\n",
    "\n",
    "val mapValues = Map[Int, String]()\n",
    "mapValues += (1 -> \"erad\")\n",
    "mapValues += (2 -> \"erad\")\n",
    "mapValues += (3 -> \"erad\")"
   ]
  },
  {
   "cell_type": "code",
   "execution_count": 93,
   "metadata": {},
   "outputs": [
    {
     "data": {
      "text/plain": [
       "mapValues2 = Map(2 -> erad, 1 -> erad)\n"
      ]
     },
     "metadata": {},
     "output_type": "display_data"
    },
    {
     "data": {
      "text/plain": [
       "Map(2 -> erad, 1 -> erad)"
      ]
     },
     "execution_count": 93,
     "metadata": {},
     "output_type": "execute_result"
    }
   ],
   "source": [
    "val mapValues2 : Map[Int, String] = Map(1 -> \"erad\",2 -> \"erad\") // outra forma"
   ]
  },
  {
   "cell_type": "markdown",
   "metadata": {},
   "source": [
    "## Classes e Objetos"
   ]
  },
  {
   "cell_type": "markdown",
   "metadata": {},
   "source": [
    "* Scala fornece a possibilidade de criar objetos\n",
    "* Entenderemos o seu comportamento"
   ]
  },
  {
   "cell_type": "code",
   "execution_count": 94,
   "metadata": {},
   "outputs": [
    {
     "data": {
      "text/plain": [
       "defined class ClasseErad\n"
      ]
     },
     "metadata": {},
     "output_type": "display_data"
    }
   ],
   "source": [
    "class ClasseErad {\n",
    "    \n",
    "    // declarações\n",
    "    \n",
    "}"
   ]
  },
  {
   "cell_type": "code",
   "execution_count": 95,
   "metadata": {},
   "outputs": [
    {
     "data": {
      "text/plain": [
       "obj = ClasseErad@568d7edc\n"
      ]
     },
     "metadata": {},
     "output_type": "display_data"
    },
    {
     "data": {
      "text/plain": [
       "ClasseErad@568d7edc"
      ]
     },
     "execution_count": 95,
     "metadata": {},
     "output_type": "execute_result"
    }
   ],
   "source": [
    "var obj  = new ClasseErad  // criando um objeto da classe ClasseErad"
   ]
  },
  {
   "cell_type": "code",
   "execution_count": 96,
   "metadata": {},
   "outputs": [
    {
     "data": {
      "text/plain": [
       "defined class ClasseCefet\n"
      ]
     },
     "metadata": {},
     "output_type": "display_data"
    }
   ],
   "source": [
    "class ClasseCefet {\n",
    "    \n",
    "    var valor = 10\n",
    "    \n",
    "}"
   ]
  },
  {
   "cell_type": "code",
   "execution_count": 97,
   "metadata": {},
   "outputs": [
    {
     "data": {
      "text/plain": [
       "objCefet1 = ClasseCefet@6593054\n"
      ]
     },
     "metadata": {},
     "output_type": "display_data"
    },
    {
     "data": {
      "text/plain": [
       "ClasseCefet@6593054"
      ]
     },
     "execution_count": 97,
     "metadata": {},
     "output_type": "execute_result"
    }
   ],
   "source": [
    "var objCefet1 = new ClasseCefet"
   ]
  },
  {
   "cell_type": "code",
   "execution_count": 98,
   "metadata": {},
   "outputs": [
    {
     "data": {
      "text/plain": [
       "10"
      ]
     },
     "execution_count": 98,
     "metadata": {},
     "output_type": "execute_result"
    }
   ],
   "source": [
    "objCefet1.valor  // estamos lidando com variável do tipo var"
   ]
  },
  {
   "cell_type": "code",
   "execution_count": 99,
   "metadata": {},
   "outputs": [
    {
     "data": {
      "text/plain": [
       "objCefet1.valor: Int = 20\n"
      ]
     },
     "metadata": {},
     "output_type": "display_data"
    },
    {
     "data": {
      "text/plain": [
       "20"
      ]
     },
     "execution_count": 99,
     "metadata": {},
     "output_type": "execute_result"
    }
   ],
   "source": [
    "objCefet1.valor = 20\n",
    "objCefet1.valor "
   ]
  },
  {
   "cell_type": "code",
   "execution_count": 100,
   "metadata": {},
   "outputs": [
    {
     "data": {
      "text/plain": [
       "defined class ClasseCefet2\n"
      ]
     },
     "metadata": {},
     "output_type": "display_data"
    }
   ],
   "source": [
    "class ClasseCefet2 {\n",
    "    \n",
    "    private var valor = 10 // sem acesso externo\n",
    "    \n",
    "}"
   ]
  },
  {
   "cell_type": "code",
   "execution_count": 105,
   "metadata": {},
   "outputs": [
    {
     "data": {
      "text/plain": [
       "defined class ClasseCefet3\n",
       "objCefet3 = ClasseCefet3@74349470\n"
      ]
     },
     "metadata": {},
     "output_type": "display_data"
    },
    {
     "data": {
      "text/plain": [
       "20"
      ]
     },
     "execution_count": 105,
     "metadata": {},
     "output_type": "execute_result"
    }
   ],
   "source": [
    "class ClasseCefet3 {\n",
    "    \n",
    "    private var valor = 10 // sem acesso externo\n",
    "    \n",
    "    def add(a:Int):Int = {\n",
    "        a + valor\n",
    "    }        \n",
    "}\n",
    "\n",
    "val objCefet3 = new ClasseCefet3\n",
    "objCefet3.add(10)"
   ]
  },
  {
   "cell_type": "markdown",
   "metadata": {},
   "source": [
    "* Vamos escrever a mesma classe, mas como objeto"
   ]
  },
  {
   "cell_type": "code",
   "execution_count": 109,
   "metadata": {},
   "outputs": [
    {
     "data": {
      "text/plain": [
       "defined object ObjectCefet3\n"
      ]
     },
     "metadata": {},
     "output_type": "display_data"
    },
    {
     "data": {
      "text/plain": [
       "20"
      ]
     },
     "execution_count": 109,
     "metadata": {},
     "output_type": "execute_result"
    }
   ],
   "source": [
    "object ObjectCefet3 {\n",
    "    \n",
    "    private val valor = 10 // sem acesso externo\n",
    "    \n",
    "    def add(a:Int):Int = {\n",
    "        a + valor\n",
    "    }        \n",
    "}\n",
    "\n",
    "objCefet3.add(10) // note que não precisamos criar um objeto, se assemelha a metodos estaticos"
   ]
  },
  {
   "cell_type": "markdown",
   "metadata": {},
   "source": [
    "* Quando o objeto possui o mesmo nome de uma classe, a denominamos classe companheira\n",
    "* Não nos aprofundaremos neste tema\n",
    "* O Scala fornece uma prática forma de declarar classes\n",
    "* O Case Class, que é imutável, será discutido a seguir"
   ]
  },
  {
   "cell_type": "code",
   "execution_count": 110,
   "metadata": {},
   "outputs": [
    {
     "data": {
      "text/plain": [
       "defined class ClasseCefet3\n"
      ]
     },
     "metadata": {},
     "output_type": "display_data"
    }
   ],
   "source": [
    "case class ClasseCefet3(valor: Int  = 10) "
   ]
  },
  {
   "cell_type": "code",
   "execution_count": 113,
   "metadata": {},
   "outputs": [
    {
     "data": {
      "text/plain": [
       "objCaseClass3 = ClasseCefet3(20)\n"
      ]
     },
     "metadata": {},
     "output_type": "display_data"
    },
    {
     "data": {
      "text/plain": [
       "20"
      ]
     },
     "execution_count": 113,
     "metadata": {},
     "output_type": "execute_result"
    }
   ],
   "source": [
    "var objCaseClass3 = ClasseCefet3(20)\n",
    "objCaseClass3.valor\n"
   ]
  },
  {
   "cell_type": "markdown",
   "metadata": {},
   "source": [
    "## Vamos avançar! Utilizaremos muitos dos conceitos apresentados enquanto utilizamos o Apache Spark!"
   ]
  }
 ],
 "metadata": {
  "kernelspec": {
   "display_name": "Apache Toree - Scala",
   "language": "scala",
   "name": "apache_toree_scala"
  },
  "language_info": {
   "codemirror_mode": "text/x-scala",
   "file_extension": ".scala",
   "mimetype": "text/x-scala",
   "name": "scala",
   "pygments_lexer": "scala",
   "version": "2.11.12"
  }
 },
 "nbformat": 4,
 "nbformat_minor": 2
}
